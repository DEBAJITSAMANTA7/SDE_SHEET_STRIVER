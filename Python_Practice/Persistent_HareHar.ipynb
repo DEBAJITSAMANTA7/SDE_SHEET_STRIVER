{
 "cells": [
  {
   "cell_type": "code",
   "execution_count": null,
   "id": "9ddb550b",
   "metadata": {},
   "outputs": [],
   "source": [
    "# Hare Krishna Hare Rama,Hare Radhika rani,"
   ]
  },
  {
   "cell_type": "code",
   "execution_count": 20,
   "id": "6185f424",
   "metadata": {},
   "outputs": [
    {
     "name": "stdout",
     "output_type": "stream",
     "text": [
      "['Geek', 'Geek', 'Ubuntu', 'antutu', 'antutu', 'for']\n",
      "['Geek']\n",
      "1\n"
     ]
    }
   ],
   "source": [
    "s1=[\"for\",\"Geek\",\"Geek\",\"Ubuntu\",\"antutu\",\"antutu\"]\n",
    "s1.sort()\n",
    "print(s1)\n",
    "s2=[]\n",
    "count=0\n",
    "time=0\n",
    "for i in range(len(s1)):\n",
    "    for j in range(0,len(s1)):\n",
    "        if(s1[i]==s1[j]):\n",
    "            count=count+1\n",
    "            if(count==1):\n",
    "                s2.append(s1[i])\n",
    "                print(s2)\n",
    "                time+=1\n",
    "                print(time)\n",
    "# print(s2)\n",
    "\n",
    "\n"
   ]
  },
  {
   "cell_type": "code",
   "execution_count": 4,
   "id": "2d85a3bf",
   "metadata": {},
   "outputs": [
    {
     "ename": "IndexError",
     "evalue": "list index out of range",
     "output_type": "error",
     "traceback": [
      "\u001b[1;31m---------------------------------------------------------------------------\u001b[0m",
      "\u001b[1;31mIndexError\u001b[0m                                Traceback (most recent call last)",
      "Cell \u001b[1;32mIn[4], line 5\u001b[0m\n\u001b[0;32m      2\u001b[0m s1\u001b[39m=\u001b[39m[\u001b[39m1\u001b[39m,\u001b[39m2\u001b[39m,\u001b[39m3\u001b[39m,\u001b[39m4\u001b[39m,\u001b[39m5\u001b[39m,\u001b[39m6\u001b[39m,\u001b[39m7\u001b[39m,\u001b[39m8\u001b[39m,\u001b[39m9\u001b[39m,\u001b[39m10\u001b[39m]\n\u001b[0;32m      4\u001b[0m \u001b[39mfor\u001b[39;00m i \u001b[39min\u001b[39;00m \u001b[39mrange\u001b[39m(\u001b[39mlen\u001b[39m(s1)):\n\u001b[1;32m----> 5\u001b[0m     \u001b[39mif\u001b[39;00m s1[i]\u001b[39m!=\u001b[39m\u001b[39mNone\u001b[39;00m:\n\u001b[0;32m      6\u001b[0m         s1\u001b[39m.\u001b[39mpop()\n\u001b[0;32m      7\u001b[0m \u001b[39mprint\u001b[39m(s1)\n",
      "\u001b[1;31mIndexError\u001b[0m: list index out of range"
     ]
    }
   ],
   "source": [
    "# Search a element in an array\n",
    "s1=[1,2,3,4,5,6,7,8,9,10]\n",
    "\n",
    "for i in range(len(s1)):\n",
    "    if s1[i]!=None:\n",
    "        s1.pop()\n",
    "print(s1)"
   ]
  },
  {
   "cell_type": "code",
   "execution_count": null,
   "id": "f0062842",
   "metadata": {},
   "outputs": [],
   "source": []
  }
 ],
 "metadata": {
  "kernelspec": {
   "display_name": "Python 3 (ipykernel)",
   "language": "python",
   "name": "python3"
  },
  "language_info": {
   "codemirror_mode": {
    "name": "ipython",
    "version": 3
   },
   "file_extension": ".py",
   "mimetype": "text/x-python",
   "name": "python",
   "nbconvert_exporter": "python",
   "pygments_lexer": "ipython3",
   "version": "3.11.3"
  }
 },
 "nbformat": 4,
 "nbformat_minor": 5
}
