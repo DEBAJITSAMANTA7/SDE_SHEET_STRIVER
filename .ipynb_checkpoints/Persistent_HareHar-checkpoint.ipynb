{
 "cells": [
  {
   "cell_type": "code",
   "execution_count": 1,
   "id": "9ddb550b",
   "metadata": {},
   "outputs": [
    {
     "ename": "TypeError",
     "evalue": "Name.__init__() takes 1 positional argument but 2 were given",
     "output_type": "error",
     "traceback": [
      "\u001b[1;31m---------------------------------------------------------------------------\u001b[0m",
      "\u001b[1;31mTypeError\u001b[0m                                 Traceback (most recent call last)",
      "Cell \u001b[1;32mIn[1], line 4\u001b[0m\n\u001b[0;32m      2\u001b[0m    \u001b[39mdef\u001b[39;00m \u001b[39m__init__\u001b[39m(javatpoint):  \n\u001b[0;32m      3\u001b[0m        javajavatpoint \u001b[39m=\u001b[39m java  \n\u001b[1;32m----> 4\u001b[0m name1\u001b[39m=\u001b[39mName(\u001b[39m\"\u001b[39;49m\u001b[39mABC\u001b[39;49m\u001b[39m\"\u001b[39;49m)  \n\u001b[0;32m      5\u001b[0m name2\u001b[39m=\u001b[39mname1  \n",
      "\u001b[1;31mTypeError\u001b[0m: Name.__init__() takes 1 positional argument but 2 were given"
     ]
    }
   ],
   "source": [
    " class Name:  \n",
    "    def __init__(javatpoint):  \n",
    "        javajavatpoint = java  \n",
    "name1=Name(\"ABC\")  \n",
    "name2=name1  "
   ]
  },
  {
   "cell_type": "code",
   "execution_count": 6,
   "id": "c506ddc5",
   "metadata": {},
   "outputs": [
    {
     "name": "stdout",
     "output_type": "stream",
     "text": [
      "1\n",
      "2\n",
      "3\n",
      "4\n"
     ]
    }
   ],
   "source": [
    "x = 1  \n",
    "while True:  \n",
    "    if x % 5 == 0:  \n",
    "        break  \n",
    "    print(x)   \n",
    "    x += 1  "
   ]
  },
  {
   "cell_type": "code",
   "execution_count": 10,
   "id": "861f2e4e",
   "metadata": {},
   "outputs": [
    {
     "ename": "AttributeError",
     "evalue": "'list' object has no attribute 'lower'",
     "output_type": "error",
     "traceback": [
      "\u001b[1;31m---------------------------------------------------------------------------\u001b[0m",
      "\u001b[1;31mAttributeError\u001b[0m                            Traceback (most recent call last)",
      "Cell \u001b[1;32mIn[10], line 4\u001b[0m\n\u001b[0;32m      1\u001b[0m x \u001b[39m=\u001b[39m [\u001b[39m'\u001b[39m\u001b[39mXX\u001b[39m\u001b[39m'\u001b[39m, \u001b[39m'\u001b[39m\u001b[39mYY\u001b[39m\u001b[39m'\u001b[39m]  \n\u001b[0;32m      2\u001b[0m \u001b[39mfor\u001b[39;00m i \u001b[39min\u001b[39;00m x:  \n\u001b[0;32m      3\u001b[0m     \u001b[39m# i.lower() \u001b[39;00m\n\u001b[1;32m----> 4\u001b[0m     \u001b[39mprint\u001b[39m(x\u001b[39m.\u001b[39;49mlower()) \n\u001b[0;32m      5\u001b[0m \u001b[39m# print(x)  \u001b[39;00m\n",
      "\u001b[1;31mAttributeError\u001b[0m: 'list' object has no attribute 'lower'"
     ]
    }
   ],
   "source": [
    "x = ['XX', 'YY']  \n",
    "for i in x:  \n",
    "    # i.lower() \n",
    "    print(x.lower()) \n",
    "# print(x)  "
   ]
  },
  {
   "cell_type": "code",
   "execution_count": 13,
   "id": "8a2500e8",
   "metadata": {},
   "outputs": [
    {
     "name": "stdout",
     "output_type": "stream",
     "text": [
      "3.4641016151377544\n"
     ]
    }
   ],
   "source": [
    "import math  \n",
    "abs(math.sqrt(36)) \n",
    "print(\"\\n\") \n",
    "print(abs(math.sqrt(12)) )"
   ]
  },
  {
   "cell_type": "code",
   "execution_count": 15,
   "metadata": {},
   "outputs": [
    {
     "ename": "SyntaxError",
     "evalue": "invalid syntax (2226599002.py, line 1)",
     "output_type": "error",
     "traceback": [
      "\u001b[1;36m  Cell \u001b[1;32mIn[15], line 1\u001b[1;36m\u001b[0m\n\u001b[1;33m    print (re\"\\njavat\\npoint\")\u001b[0m\n\u001b[1;37m             ^\u001b[0m\n\u001b[1;31mSyntaxError\u001b[0m\u001b[1;31m:\u001b[0m invalid syntax\n"
     ]
    }
   ],
   "source": [
    "print (r\"\\njavat\\npoint\")  "
   ]
  },
  {
   "cell_type": "code",
   "execution_count": 16,
   "id": "7c4e0dd8",
   "metadata": {},
   "outputs": [
    {
     "name": "stdout",
     "output_type": "stream",
     "text": [
      "33\n"
     ]
    }
   ],
   "source": [
    "print(0xA + 0xB + 0xC)  "
   ]
  },
  {
   "cell_type": "code",
   "execution_count": 17,
   "id": "ed3c54d9",
   "metadata": {},
   "outputs": [
    {
     "ename": "AttributeError",
     "evalue": "'book' object has no attribute 'o2'",
     "output_type": "error",
     "traceback": [
      "\u001b[1;31m---------------------------------------------------------------------------\u001b[0m",
      "\u001b[1;31mAttributeError\u001b[0m                            Traceback (most recent call last)",
      "Cell \u001b[1;32mIn[17], line 11\u001b[0m\n\u001b[0;32m      8\u001b[0m         \u001b[39mself\u001b[39m\u001b[39m.\u001b[39mo2 \u001b[39m=\u001b[39m b\n\u001b[0;32m     10\u001b[0m obj \u001b[39m=\u001b[39m book(\u001b[39m32\u001b[39m)  \n\u001b[1;32m---> 11\u001b[0m \u001b[39mprint\u001b[39m(\u001b[39m\"\u001b[39m\u001b[39m{}\u001b[39;00m\u001b[39m \u001b[39m\u001b[39m{}\u001b[39;00m\u001b[39m\"\u001b[39m\u001b[39m.\u001b[39mformat(obj\u001b[39m.\u001b[39mo1, obj\u001b[39m.\u001b[39;49mo2))\n",
      "\u001b[1;31mAttributeError\u001b[0m: 'book' object has no attribute 'o2'"
     ]
    }
   ],
   "source": [
    "class book:  \n",
    "    def __init__(self, b):  \n",
    "        self.o1 = b\n",
    "   \n",
    "class child(book):  \n",
    "    def __init__(self, b):  \n",
    "        super().__init__(b)\n",
    "        self.o2 = b\n",
    "   \n",
    "obj = book(32)  \n",
    "print(\"{} {}\".format(obj.o1, obj.o2))"
   ]
  },
  {
   "cell_type": "code",
   "execution_count": 20,
   "id": "7c6fe3cb",
   "metadata": {},
   "outputs": [
    {
     "name": "stdout",
     "output_type": "stream",
     "text": [
      "['XY', 'YZ']\n"
     ]
    }
   ],
   "source": [
    "x = ['XY', 'YZ']  \n",
    "for i in x:  \n",
    "    i.lower()  \n",
    "print(x) "
   ]
  },
  {
   "cell_type": "code",
   "execution_count": 26,
   "id": "c1b205e4",
   "metadata": {},
   "outputs": [
    {
     "data": {
      "text/plain": [
       "2"
      ]
     },
     "execution_count": 26,
     "metadata": {},
     "output_type": "execute_result"
    }
   ],
   "source": [
    "2%3"
   ]
  },
  {
   "cell_type": "code",
   "execution_count": 28,
   "id": "ed8f0e69",
   "metadata": {},
   "outputs": [
    {
     "ename": "IndexError",
     "evalue": "list assignment index out of range",
     "output_type": "error",
     "traceback": [
      "\u001b[1;31m---------------------------------------------------------------------------\u001b[0m",
      "\u001b[1;31mIndexError\u001b[0m                                Traceback (most recent call last)",
      "Cell \u001b[1;32mIn[28], line 4\u001b[0m\n\u001b[0;32m      2\u001b[0m y\u001b[39m=\u001b[39m[]  \n\u001b[0;32m      3\u001b[0m \u001b[39mfor\u001b[39;00m i \u001b[39min\u001b[39;00m \u001b[39mrange\u001b[39m(\u001b[39mlen\u001b[39m(x)):  \n\u001b[1;32m----> 4\u001b[0m     y[i]\u001b[39m=\u001b[39mx[i]\u001b[39m.\u001b[39mupper()  \n\u001b[0;32m      5\u001b[0m \u001b[39mprint\u001b[39m (y)  \n",
      "\u001b[1;31mIndexError\u001b[0m: list assignment index out of range"
     ]
    }
   ],
   "source": [
    "x = 'pqrs'\n",
    "y=[x[i].upper() for i in range(len(x))]\n",
    "for i in range(len(x)):  \n",
    "    y[i]=x[i].upper()  \n",
    "print (y)  "
   ]
  },
  {
   "cell_type": "code",
   "execution_count": 30,
   "id": "d3c97e85",
   "metadata": {},
   "outputs": [
    {
     "name": "stdout",
     "output_type": "stream",
     "text": [
      "a\n",
      "b\n",
      "c\n"
     ]
    }
   ],
   "source": [
    "d = {0: 'a', 1: 'b', 2: 'c'}  \n",
    "for i in d:  \n",
    "    print(d[i])  "
   ]
  },
  {
   "cell_type": "code",
   "execution_count": 31,
   "id": "2cc54c2b",
   "metadata": {},
   "outputs": [
    {
     "name": "stdout",
     "output_type": "stream",
     "text": [
      "javatpoint\n",
      "None\n",
      "None\n"
     ]
    }
   ],
   "source": [
    "print(print(print(\"javatpoint\")))    \n"
   ]
  },
  {
   "cell_type": "code",
   "execution_count": 33,
   "id": "694a5ae9",
   "metadata": {},
   "outputs": [
    {
     "name": "stdout",
     "output_type": "stream",
     "text": [
      "True\n"
     ]
    }
   ],
   "source": [
    "print(6==6.0)"
   ]
  }
 ],
 "metadata": {
  "kernelspec": {
   "display_name": "Python 3 (ipykernel)",
   "language": "python",
   "name": "python3"
  },
  "language_info": {
   "codemirror_mode": {
    "name": "ipython",
    "version": 3
   },
   "file_extension": ".py",
   "mimetype": "text/x-python",
   "name": "python",
   "nbconvert_exporter": "python",
   "pygments_lexer": "ipython3",
   "version": "3.11.3"
  }
 },
 "nbformat": 4,
 "nbformat_minor": 5
}
